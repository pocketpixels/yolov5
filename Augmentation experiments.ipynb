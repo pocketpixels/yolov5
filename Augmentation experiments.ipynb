{
 "cells": [
  {
   "cell_type": "code",
   "execution_count": null,
   "id": "f6f826dd",
   "metadata": {},
   "outputs": [],
   "source": [
    "import numpy as np\n",
    "import random\n",
    "import matplotlib as mpl\n",
    "import matplotlib.pyplot as plt\n",
    "%matplotlib inline\n",
    "import albumentations as A\n",
    "import PIL\n",
    "from PIL import Image"
   ]
  },
  {
   "cell_type": "code",
   "execution_count": null,
   "id": "922e8674",
   "metadata": {},
   "outputs": [],
   "source": [
    "import IPython\n",
    "import ipywidgets as widgets\n",
    "from ipywidgets import interact, interact_manual"
   ]
  },
  {
   "cell_type": "code",
   "execution_count": null,
   "id": "0e7ef302",
   "metadata": {},
   "outputs": [],
   "source": [
    "img = Image.open(\"../data/capturedCards/iPhone_13_mini_FC55/multiple_cards/2021-11-11_10-08-35.png\")\n",
    "img"
   ]
  },
  {
   "cell_type": "code",
   "execution_count": null,
   "id": "98be1964",
   "metadata": {},
   "outputs": [],
   "source": [
    "augs = A.RandomGamma(gamma_limit=(70,130), always_apply=True)"
   ]
  },
  {
   "cell_type": "code",
   "execution_count": null,
   "id": "1ac2219d",
   "metadata": {},
   "outputs": [],
   "source": [
    "augs = A.RandomShadow(shadow_roi=(0,0,1,1), shadow_dimension=4, num_shadows_upper=3, always_apply=True)"
   ]
  },
  {
   "cell_type": "code",
   "execution_count": null,
   "id": "3ecb0f92",
   "metadata": {},
   "outputs": [],
   "source": [
    "augs = A.RandomBrightnessContrast(always_apply=True)"
   ]
  },
  {
   "cell_type": "code",
   "execution_count": null,
   "id": "e9dc93dc",
   "metadata": {},
   "outputs": [],
   "source": [
    "augs = A.ColorJitter(hue=0.015, saturation=0.4, always_apply=True)"
   ]
  },
  {
   "cell_type": "code",
   "execution_count": null,
   "id": "a2c0a210",
   "metadata": {},
   "outputs": [],
   "source": [
    "augs = A.OneOf([\n",
    "            A.MotionBlur(blur_limit=10),\n",
    "            A.GaussianBlur(),\n",
    "        ], p=1.0)"
   ]
  },
  {
   "cell_type": "code",
   "execution_count": null,
   "id": "c696c4f8",
   "metadata": {},
   "outputs": [],
   "source": [
    "augs = A.Compose([\n",
    "                A.RandomShadow(shadow_roi=(0, 0, 1, 1), shadow_dimension=4, num_shadows_upper=3, p=0.1),\n",
    "                A.OneOf([\n",
    "                    A.MotionBlur(blur_limit=10, p=0.4),\n",
    "                    A.Blur(p=0.3),\n",
    "                    A.GaussianBlur(p=0.3),\n",
    "                ], p=0.3),\n",
    "                A.ISONoise(p=0.2),\n",
    "                A.OneOf([\n",
    "                    A.ColorJitter(hue=0.015, saturation=0.4, p=0.5),\n",
    "                    A.RandomToneCurve(p=0.25),\n",
    "                    A.RandomGamma(gamma_limit=(70, 130), p=0.25),\n",
    "                ], p=0.8),\n",
    "                A.RGBShift(p=0.2),\n",
    "            ])"
   ]
  },
  {
   "cell_type": "code",
   "execution_count": null,
   "id": "8ce34f7d",
   "metadata": {},
   "outputs": [],
   "source": [
    "@interact\n",
    "def f(s=(1, 100)):\n",
    "    random.seed(s)\n",
    "    augmented_img = Image.fromarray(augs(image=np.array(img))['image'])\n",
    "    IPython.display.display(augmented_img)\n"
   ]
  },
  {
   "cell_type": "code",
   "execution_count": null,
   "id": "abcd995b",
   "metadata": {},
   "outputs": [],
   "source": [
    "smaller.shape"
   ]
  },
  {
   "cell_type": "code",
   "execution_count": null,
   "id": "8beee510",
   "metadata": {},
   "outputs": [],
   "source": []
  },
  {
   "cell_type": "code",
   "execution_count": null,
   "id": "d53f215e",
   "metadata": {},
   "outputs": [],
   "source": [
    "plt.figure(figsize= (10,10))\n",
    "plt.imshow(img)\n"
   ]
  },
  {
   "cell_type": "code",
   "execution_count": null,
   "id": "7f29e0fc",
   "metadata": {},
   "outputs": [],
   "source": []
  },
  {
   "cell_type": "code",
   "execution_count": null,
   "id": "740ca595",
   "metadata": {},
   "outputs": [],
   "source": []
  }
 ],
 "metadata": {
  "kernelspec": {
   "display_name": "Python 3 (ipykernel)",
   "language": "python",
   "name": "python3"
  },
  "language_info": {
   "codemirror_mode": {
    "name": "ipython",
    "version": 3
   },
   "file_extension": ".py",
   "mimetype": "text/x-python",
   "name": "python",
   "nbconvert_exporter": "python",
   "pygments_lexer": "ipython3",
   "version": "3.9.7"
  }
 },
 "nbformat": 4,
 "nbformat_minor": 5
}